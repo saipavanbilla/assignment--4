{
 "cells": [
  {
   "cell_type": "code",
   "execution_count": 1,
   "id": "6347968d",
   "metadata": {},
   "outputs": [],
   "source": [
    "#1. Given a list of numbers, write a python program that returns a new list which Has all \n",
    "#duplicate elements removed. And is sorted in an increasing order.\n",
    " #Ex:\n",
    "#Input:\n",
    "#[2,1,3,4,2,3,3,2,7,9,8,7]\n",
    "#Output:\n",
    "#[1,2,3,4,7,8,9]"
   ]
  },
  {
   "cell_type": "code",
   "execution_count": 2,
   "id": "7e96e198",
   "metadata": {},
   "outputs": [
    {
     "data": {
      "text/plain": [
       "[1, 2, 3, 4, 7, 8, 9]"
      ]
     },
     "execution_count": 2,
     "metadata": {},
     "output_type": "execute_result"
    }
   ],
   "source": [
    "list1=[2,1,3,4,2,3,3,2,7,9,8,7]\n",
    "a=set(list1)\n",
    "a\n",
    "list2=list(a)\n",
    "list2.sort()\n",
    "list2"
   ]
  },
  {
   "cell_type": "code",
   "execution_count": null,
   "id": "dacb1c58",
   "metadata": {},
   "outputs": [],
   "source": [
    "#2. Write a Python program where you will iterate over both keys and values in \n",
    "#dictionaries"
   ]
  },
  {
   "cell_type": "code",
   "execution_count": 4,
   "id": "4504844f",
   "metadata": {},
   "outputs": [
    {
     "data": {
      "text/plain": [
       "{1: 'saipavan', 2: 'billa', 3: 'python', 4: 'github'}"
      ]
     },
     "execution_count": 4,
     "metadata": {},
     "output_type": "execute_result"
    }
   ],
   "source": [
    "x={1:\"saipavan\",2:\"billa\",3:\"python\",4:\"github\"}\n",
    "x.items()\n",
    "x"
   ]
  },
  {
   "cell_type": "code",
   "execution_count": 5,
   "id": "56f013a3",
   "metadata": {},
   "outputs": [],
   "source": [
    "#3. Write a Python program that takes a dictionary of student names and returns a list of student names in alphabetical order\n",
    "#Ex:\n",
    "#Input: \n",
    "#{“Student 1”: \"Tarun\", \"Student 2”: \"Manoj\", \"Student 3”: \"Gephi”}\n",
    "#Output:\n",
    " #[“Gephi”,” \n",
    "#Manoj”,” Tarun”]\n"
   ]
  },
  {
   "cell_type": "code",
   "execution_count": 6,
   "id": "6af609f4",
   "metadata": {},
   "outputs": [],
   "source": [
    "x={\"Student 1\": \"Tarun\", \"Student 2\": \"Manoj\", \"Student 3\": \"Gephi\"}\n",
    "m=[]\n",
    "for keys,values in x.items():\n",
    "     m.append(values)\n",
    "     m.sort()"
   ]
  },
  {
   "cell_type": "code",
   "execution_count": 7,
   "id": "3c5dd27b",
   "metadata": {},
   "outputs": [
    {
     "name": "stdout",
     "output_type": "stream",
     "text": [
      "['Gephi', 'Manoj', 'Tarun']\n"
     ]
    }
   ],
   "source": [
    "print(m)"
   ]
  },
  {
   "cell_type": "code",
   "execution_count": 8,
   "id": "5d4246f7",
   "metadata": {},
   "outputs": [],
   "source": [
    "#4. Write a Python which returns a new list of Booleans, from a given number. Iterating \n",
    "#through the number one digit at a time, append True if the digit is 1 and False if it is 0.\n",
    "#Ex:\n",
    "#Input: “01001”\n",
    "#Output: [“False”, “True”, “False”,” False”,” True”]"
   ]
  },
  {
   "cell_type": "code",
   "execution_count": 9,
   "id": "9b99b25d",
   "metadata": {},
   "outputs": [
    {
     "name": "stdout",
     "output_type": "stream",
     "text": [
      "['False', 'True', 'False', 'False', 'True']\n"
     ]
    }
   ],
   "source": [
    "x=\"01001\"\n",
    "n=[]\n",
    "for i in x:\n",
    "    if i==\"1\":\n",
    "        n.append(\"True\")\n",
    "    elif i==\"0\":\n",
    "        n.append(\"False\")\n",
    "print(n) "
   ]
  },
  {
   "cell_type": "code",
   "execution_count": 10,
   "id": "26ad324e",
   "metadata": {},
   "outputs": [],
   "source": [
    "#5. Given a dictionary containing the names and ages of a group of people, return the name of the oldest person\n",
    "#Ex:\n",
    "#Input: {\"Tmma\": 41, \"Ackes\": 45, \"myna\": 15, \"Benthon\": 29}\n",
    "#Output: “Ackes”"
   ]
  },
  {
   "cell_type": "code",
   "execution_count": 11,
   "id": "75e889e0",
   "metadata": {},
   "outputs": [
    {
     "name": "stdout",
     "output_type": "stream",
     "text": [
      "Ackes\n"
     ]
    }
   ],
   "source": [
    "x={\"Tmma\": 41, \"Ackes\": 45, \"myna\": 15, \"Benthon\": 29}\n",
    "y=max(x.values())\n",
    "for i in x:\n",
    "    if y==x[i]:\n",
    "        print(i)"
   ]
  },
  {
   "cell_type": "code",
   "execution_count": 12,
   "id": "6fae4dd3",
   "metadata": {},
   "outputs": [],
   "source": [
    "#6.write a Python program where you will return a dictionary where the keys will be the character and the values will be\n",
    "#  the occurrence of the character in the string, and it should for any string inputs (dynamic)\n",
    "#Ex:\n",
    "#Input: “my name is ame”\n",
    "#Output: {“m”:3,” y”:1,” n”:1,” a”:2,” e”:2,” i”:1,” s”:1}"
   ]
  },
  {
   "cell_type": "code",
   "execution_count": 13,
   "id": "1c8b1bd5",
   "metadata": {},
   "outputs": [
    {
     "name": "stdout",
     "output_type": "stream",
     "text": [
      "Enter the string : saipavanbilla\n",
      "{'n': 1, 'p': 1, 'v': 1, 'l': 2, 'a': 4, 's': 1, 'b': 1, 'i': 2}\n"
     ]
    }
   ],
   "source": [
    "a=input(\"Enter the string : \")\n",
    "b=set(a)\n",
    "c=list(b)\n",
    "dict1=dict()\n",
    "for i in c:\n",
    "    dict1.update({i:a.count(i)})\n",
    "print(dict1)"
   ]
  },
  {
   "cell_type": "code",
   "execution_count": 14,
   "id": "1814db7e",
   "metadata": {},
   "outputs": [],
   "source": [
    "#7. Write a Python program to create a Rock, Paper, Scissor game, use two inputs for two \n",
    "#players:\n",
    "#Conditions: -Rock beats Scissors, Scissors beats Paper, Paper beats Rock"
   ]
  },
  {
   "cell_type": "code",
   "execution_count": 15,
   "id": "493c58be",
   "metadata": {},
   "outputs": [
    {
     "name": "stdout",
     "output_type": "stream",
     "text": [
      "Enter a choice (rock, paper, scissors): rock\n",
      "Enter a choice (rock, paper, scissors): paper\n",
      "\n",
      "You chose rock, computer chose paper.\n",
      "\n",
      "Paper covers rock! You lose.\n"
     ]
    }
   ],
   "source": [
    "person1= input(\"Enter a choice (rock, paper, scissors): \")\n",
    "options= [\"rock\", \"paper\", \"scissors\"]\n",
    "person2= input(\"Enter a choice (rock, paper, scissors): \")\n",
    "print(f\"\\nYou chose {person1}, computer chose {person2}.\\n\")\n",
    "if person1 == person2:\n",
    "    print(f\"Both players selected {person1}. It's a tie!\")\n",
    "elif person1 == \"rock\":\n",
    "    if person2 == \"scissors\":\n",
    "        print(\"Rock smashes scissors! You win!\")\n",
    "    else:\n",
    "        print(\"Paper covers rock! You lose.\")\n",
    "elif person1 == \"paper\":\n",
    "    if person2 == \"rock\":\n",
    "        print(\"Paper covers rock! You win!\")\n",
    "    else:\n",
    "        print(\"Scissors cuts paper! You lose.\")\n",
    "elif person1 == \"scissors\":\n",
    "    if person2 == \"paper\":\n",
    "        print(\"Scissors cuts paper! You win!\")\n",
    "    else:\n",
    "        print(\"Rock smashes scissors! You lose.\")"
   ]
  },
  {
   "cell_type": "code",
   "execution_count": 16,
   "id": "72d79d74",
   "metadata": {},
   "outputs": [],
   "source": [
    "#8. Create a program that returns a list of items that you can afford in the store with the money you have in your wallet. \n",
    "#   Create a dictionary with items as key and price as values\n",
    "#Ex:\n",
    "#Input: \n",
    "#{“water bottles”: “20”,” chips”:10,” Iphone”;49000“,” towel”:90,” pens”:58,” cake”;400}\n",
    "#Your wallet balance: -50\n",
    "#Output: [“water bottles”, “chips”]"
   ]
  },
  {
   "cell_type": "code",
   "execution_count": 17,
   "id": "80b6096c",
   "metadata": {},
   "outputs": [
    {
     "name": "stdout",
     "output_type": "stream",
     "text": [
      "['water bottles', 'chips']\n"
     ]
    }
   ],
   "source": [
    "x={\"water bottles\": 20,\"chips\":10,\"Iphone\":49000,\"towel\":90,\"pens\":58,\"cake\":400}\n",
    "l=[]\n",
    "for keys,values in x.items():\n",
    "    if values<50:\n",
    "        l.append(keys)\n",
    "print(l)"
   ]
  },
  {
   "cell_type": "code",
   "execution_count": 18,
   "id": "226af554",
   "metadata": {},
   "outputs": [],
   "source": [
    "#9. Write a Python program to create a union of sets"
   ]
  },
  {
   "cell_type": "code",
   "execution_count": 20,
   "id": "4c8b3b82",
   "metadata": {},
   "outputs": [
    {
     "data": {
      "text/plain": [
       "{1, 2, 3, 4, 5, 6, 7, 8, 9, 10}"
      ]
     },
     "execution_count": 20,
     "metadata": {},
     "output_type": "execute_result"
    }
   ],
   "source": [
    "set1={1,2,3,4,5}\n",
    "set2={6,7,8,9,10}\n",
    "set3=set1.union(set2)\n",
    "set3"
   ]
  },
  {
   "cell_type": "code",
   "execution_count": 21,
   "id": "cbcd4107",
   "metadata": {},
   "outputs": [],
   "source": [
    "#10. Write a Python program to check if a given value is present in a set or not (Dynamic)"
   ]
  },
  {
   "cell_type": "code",
   "execution_count": 1,
   "id": "7bb9c23e",
   "metadata": {},
   "outputs": [
    {
     "name": "stdout",
     "output_type": "stream",
     "text": [
      "-66\n",
      "value is present\n"
     ]
    }
   ],
   "source": [
    "set={1,2,3,4,-7,-45,-66}\n",
    "x=int(input())\n",
    "for i in set:\n",
    "    if i==x:\n",
    "        print(\"value is present\")"
   ]
  },
  {
   "cell_type": "code",
   "execution_count": 2,
   "id": "ff6e03a9",
   "metadata": {},
   "outputs": [],
   "source": [
    "#11. Write a Python program to find the occurrences of 3 most common words in a given text. And make it as a dictionaries\n",
    "##Ex:\n",
    "#Input:\n",
    "#” Cat dog dog cat horse dog dog mouse horse dog mouse tiger lion tiger cat mouse snail”\n",
    "#Output: (“dog”:5,”cat”:3,” mouse”;3)"
   ]
  },
  {
   "cell_type": "code",
   "execution_count": 3,
   "id": "0a6ba97b",
   "metadata": {},
   "outputs": [
    {
     "name": "stdout",
     "output_type": "stream",
     "text": [
      "{'cat': 3, 'dog': 5, 'mouse': 3}\n"
     ]
    }
   ],
   "source": [
    "x=\"cat dog dog cat horse dog dog mouse horse dog mouse tiger lion tiger cat mouse snail\"\n",
    "y=x.split()\n",
    "y\n",
    "l=[]\n",
    "dict1={}\n",
    "for i in y:\n",
    "    if y.count(i)>2:\n",
    "        if i in dict1:\n",
    "            dict1[i]+=1\n",
    "        else:\n",
    "            dict1[i]=1\n",
    "print(dict1)"
   ]
  },
  {
   "cell_type": "code",
   "execution_count": 4,
   "id": "940a4c21",
   "metadata": {},
   "outputs": [],
   "source": [
    "#12. Write a Python program that accepts name of given subject and mark, and make subjects as keys in dictionaries and \n",
    "#    marks as values and print the final dictionary with subjects and marks"
   ]
  },
  {
   "cell_type": "code",
   "execution_count": 5,
   "id": "9cc3dce4",
   "metadata": {},
   "outputs": [
    {
     "name": "stdout",
     "output_type": "stream",
     "text": [
      "Please enter all the names and marks in their provided column. use [','] to seperate the names\n",
      "Subject Names : maths\n",
      "Marks : 65\n",
      "{'maths': '65'}\n"
     ]
    }
   ],
   "source": [
    "print(\"Please enter all the names and marks in their provided column. use [','] to seperate the names\")\n",
    "progress_report={}\n",
    "while True:\n",
    "    nms=input(\"Subject Names : \")\n",
    "    mks=input(\"Marks : \")\n",
    "    names=nms.split(\",\")\n",
    "    marks=mks.split(\",\")\n",
    "    full=zip(names,marks)\n",
    "    \n",
    "    if len(names)==len(marks):\n",
    "        for i,j in full:\n",
    "            progress_report.update({i:j})\n",
    "        break\n",
    "print(progress_report)\n"
   ]
  },
  {
   "cell_type": "code",
   "execution_count": null,
   "id": "15f89af0",
   "metadata": {},
   "outputs": [],
   "source": []
  }
 ],
 "metadata": {
  "kernelspec": {
   "display_name": "Python 3 (ipykernel)",
   "language": "python",
   "name": "python3"
  },
  "language_info": {
   "codemirror_mode": {
    "name": "ipython",
    "version": 3
   },
   "file_extension": ".py",
   "mimetype": "text/x-python",
   "name": "python",
   "nbconvert_exporter": "python",
   "pygments_lexer": "ipython3",
   "version": "3.9.13"
  }
 },
 "nbformat": 4,
 "nbformat_minor": 5
}
